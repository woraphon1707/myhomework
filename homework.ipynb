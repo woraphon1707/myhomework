{
 "cells": [
  {
   "cell_type": "code",
   "execution_count": 1,
   "id": "d79bbcf2-f12f-4681-a3dd-2c423c560d18",
   "metadata": {
    "tags": []
   },
   "outputs": [
    {
     "name": "stdout",
     "output_type": "stream",
     "text": [
      "วรพล พรหมคุณ\n"
     ]
    }
   ],
   "source": [
    "print (\"วรพล พรหมคุณ\")"
   ]
  },
  {
   "cell_type": "code",
   "execution_count": null,
   "id": "e195a3aa-55c7-4a1c-9de6-d0e7acf24586",
   "metadata": {},
   "outputs": [],
   "source": []
  }
 ],
 "metadata": {
  "kernelspec": {
   "display_name": "Python 3 (ipykernel)",
   "language": "python",
   "name": "python3"
  },
  "language_info": {
   "codemirror_mode": {
    "name": "ipython",
    "version": 3
   },
   "file_extension": ".py",
   "mimetype": "text/x-python",
   "name": "python",
   "nbconvert_exporter": "python",
   "pygments_lexer": "ipython3",
   "version": "3.11.5"
  }
 },
 "nbformat": 4,
 "nbformat_minor": 5
}
