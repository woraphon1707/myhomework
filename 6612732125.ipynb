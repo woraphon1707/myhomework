{
 "cells": [
  {
   "cell_type": "code",
   "execution_count": 10,
   "id": "22f18372-77f6-429e-a14a-6889031e6659",
   "metadata": {
    "tags": []
   },
   "outputs": [
    {
     "name": "stdout",
     "output_type": "stream",
     "text": [
      " * \n",
      " *  * \n",
      " *  *  * \n",
      " *  *  *  * \n",
      " *  *  *  *  * \n"
     ]
    }
   ],
   "source": [
    "for i in range(1, 6):\n",
    "    print(' * ' * i)\n",
    "for i in range(0, 0, -1):\n",
    "    print(' * ' * i)\n"
   ]
  },
  {
   "cell_type": "code",
   "execution_count": 122,
   "id": "37fdd816-1542-454b-b214-73a4dd62632e",
   "metadata": {
    "tags": []
   },
   "outputs": [
    {
     "name": "stdout",
     "output_type": "stream",
     "text": [
      "           *\n",
      "         * *\n",
      "       * * *\n",
      "     * * * *\n",
      "   * * * * *\n",
      " * * * * * *\n"
     ]
    }
   ],
   "source": [
    "num = 6\n",
    "end = num - 1\n",
    "for i in range(0, num):\n",
    "    for j in range(0, num):\n",
    "        if j >= end - i:\n",
    "            print(\" *\", end=\"\")\n",
    "        else:\n",
    "            print(\"  \", end=\"\")\n",
    "    print()"
   ]
  },
  {
   "cell_type": "code",
   "execution_count": 60,
   "id": "42faf59c-6203-425a-86fd-ec35819f304e",
   "metadata": {
    "tags": []
   },
   "outputs": [
    {
     "name": "stdout",
     "output_type": "stream",
     "text": [
      " *  *  *  *  * \n",
      " *  *  *  * \n",
      " *  *  * \n",
      " *  * \n",
      " * \n"
     ]
    }
   ],
   "source": [
    "\n",
    "for i in range(5, 0, -1):\n",
    "    print(' * ' * i)"
   ]
  },
  {
   "cell_type": "code",
   "execution_count": null,
   "id": "3dc58154-fcfb-4be3-a219-1b116c8e2166",
   "metadata": {},
   "outputs": [],
   "source": []
  }
 ],
 "metadata": {
  "kernelspec": {
   "display_name": "Python 3 (ipykernel)",
   "language": "python",
   "name": "python3"
  },
  "language_info": {
   "codemirror_mode": {
    "name": "ipython",
    "version": 3
   },
   "file_extension": ".py",
   "mimetype": "text/x-python",
   "name": "python",
   "nbconvert_exporter": "python",
   "pygments_lexer": "ipython3",
   "version": "3.11.5"
  }
 },
 "nbformat": 4,
 "nbformat_minor": 5
}
