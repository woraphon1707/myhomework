{
 "cells": [
  {
   "cell_type": "markdown",
   "metadata": {},
   "source": [
    "# ข้อสอบปลายภาควิชา การเขียนโปรแกรมเชิงวัตถุ"
   ]
  },
  {
   "cell_type": "code",
   "execution_count": null,
   "metadata": {},
   "outputs": [],
   "source": [
    "\"\"\"\n",
    "ชื่อ - สกุล - รหัส\n",
    "นายวรพล พรหมคุณ รหัส 6612732125\n",
    "\n",
    "\"\"\""
   ]
  },
  {
   "cell_type": "markdown",
   "metadata": {},
   "source": [
    "## 1. เขียนโปรแกรมโดยใช้กลไกลการทำงานแบบ OOP ตามข้อกำหนดดังต่อไปนี้\n",
    "\n",
    "- จงสร้างคลาส Person\" ที่มีตัวแปร \"name\" และ \"age\" ซึ่งไม่สามารถเข้าถึงผ่านตัวแปร instance ได้ และเขียน method ที่ใช้สำหรับแก้ไข \"age\" จากภายในคลาส และ \"age\" จะต้องมีค่าเพิ่มขึ้นได้อย่างเดียวเท่านั้น\n",
    "\n",
    "- ภายใน Class Person กำหนดให้มี method ชื่อ getInfo() สำหรับแสดงข้อมูลบุคคลนั้น ๆ"
   ]
  },
  {
   "cell_type": "code",
   "execution_count": 104,
   "metadata": {
    "tags": []
   },
   "outputs": [],
   "source": [
    "# เขียนโปรแกรมในช่องนี้\n",
    "class Person:\n",
    "    def __init__(self, name, age):\n",
    "        self._name = name\n",
    "        self._age = age\n",
    "\n",
    "    def get_name(self):\n",
    "        return self._name\n",
    "\n",
    "    def get_age(self):\n",
    "        return self._age\n",
    "\n",
    "    def set_age(self, new_age):\n",
    "        if new_age > self._age:\n",
    "            self._age = new_age\n",
    "        else:\n",
    "            print(\"Age can only be increased.\")\n",
    "person1 = Person(\"woraphon\", 21)\n",
    "person1.set_age(22)\n"
   ]
  },
  {
   "cell_type": "code",
   "execution_count": 105,
   "metadata": {
    "tags": []
   },
   "outputs": [],
   "source": [
    "# จงสร้างตัวแปร instance จากคลาส Person\n",
    "\n",
    "person1 = Person(\"woraphon\", 21)\n",
    "person2 = Person(\"Bob\", 22)"
   ]
  },
  {
   "cell_type": "code",
   "execution_count": 106,
   "metadata": {
    "tags": []
   },
   "outputs": [],
   "source": [
    "# จงกำหนดอายุให้แก่ age\n",
    "person = Person(\"woraphon\", 21)\n",
    "person.set_age(22)"
   ]
  },
  {
   "cell_type": "code",
   "execution_count": 107,
   "metadata": {
    "tags": []
   },
   "outputs": [
    {
     "name": "stdout",
     "output_type": "stream",
     "text": [
      "Person - Name: woraphon, Age: 22\n"
     ]
    }
   ],
   "source": [
    "# จงแสดงข้่อมูลบุคคลของตัวแปร instance \n",
    "print(f\"Person - Name: {person.get_name()}, Age: {person.get_age()}\")"
   ]
  },
  {
   "cell_type": "markdown",
   "metadata": {},
   "source": [
    "## 2.จงสร้างคลาส Student ที่มีการสืบทอดคุณสมบัติจากคลาส Person ในข้อที่ 1\n",
    "\n",
    "- ในคลาส Student จะมีคุณสมบัติเพิ่มเข้ามาดังต่อไปนี้ \"student_id\" คือ รหัสนักศึกษา, \"major\" คือ สาขาวิชา และทั้งสองจะต้องเป็นคุณสมบัติที่ไม่สามารถแก้ไขได้หลังจากสร้างตัวแปร Instance แล้ว\n",
    "\n",
    "- และใน method getInfo() ให้เพิ่มการแแสดง รหัสนักศึกษา และ สาชาวิชา เข้ามาด้วย"
   ]
  },
  {
   "cell_type": "code",
   "execution_count": 108,
   "metadata": {
    "tags": []
   },
   "outputs": [],
   "source": [
    "# เขียนโปรแกรมในช่องนี้\n",
    "class Student:\n",
    "    def __init__(self, name, age, student_id, major):\n",
    "        self._name = name\n",
    "        self._age = age\n",
    "        self._student_id = student_id\n",
    "        self._major = major\n",
    "\n",
    "    @property\n",
    "    def name(self):\n",
    "        return self._name\n",
    "\n",
    "    @property\n",
    "    def age(self):\n",
    "        return self._age\n",
    "\n",
    "    @property\n",
    "    def student_id(self):\n",
    "        return self._student_id\n",
    "\n",
    "    @property\n",
    "    def major(self):\n",
    "        return self._major\n",
    "\n",
    "\n",
    "\n"
   ]
  },
  {
   "cell_type": "code",
   "execution_count": 109,
   "metadata": {
    "tags": []
   },
   "outputs": [],
   "source": [
    "# จงสร้างตัวแปร instance จากคลาส Student\n",
    "student = Student(\"woraphon\", 21, \"6612732125\", \"Computer Science\")"
   ]
  },
  {
   "cell_type": "code",
   "execution_count": 110,
   "metadata": {
    "tags": []
   },
   "outputs": [
    {
     "name": "stdout",
     "output_type": "stream",
     "text": [
      "Student - Name: woraphon, Age: 21, Student ID: 6612732125, Major: Computer Science\n"
     ]
    }
   ],
   "source": [
    "# จงแสดงข้่อมูลนักเรียนของตัวแปร instance \n",
    "print(\"Student - Name: {}, Age: {}, Student ID: {}, Major: {}\".format(student.name, student.age, student.student_id, student.major))"
   ]
  },
  {
   "cell_type": "markdown",
   "metadata": {},
   "source": [
    "## 3.จงสร้างคลาส ComSciStudent ที่มีการสืบทอดคุณสมบัติจากคลาส Student ในข้อที่ 2\n",
    "\n",
    "- ในคลาส ComSciStudent จะมีคุณสมบัติที่รับเข้ามาแค่ \"student_id\" คือ รหัสนักศึกษา, แต่ \"major\" คือ สาขาวิชา จะมีค่า default เป็น \"Computer Science\" และทั้งสองจะต้องเป็นคุณสมบัติที่ไม่สามารถแก้ไขได้หลังจากสร้างตัวแปร Instance แล้ว\n",
    "\n",
    "- ในคลาส ComSciStudent จะมีคุณสมบัติที่เพิ่มเข้ามา อีก 1 ตัว คือ ความถนัด หรือ aptitude เพิ่มเข้ามา ซึ่งจะสามารถกำหนดได้ในกระบวนการสร้างตัวแปร instance และจะสามารถแก้ไขได้อีกโดยการแก้ไขผ่าน method ได้เท่านั้น\n",
    "\n",
    "\n",
    "- ในคลาส ComSciStudent จะมี method ชื่อว่า Coding() ซึ่งจะนำเสนอข้อมูลว่า นักศึกษา รหัสนักศึกษา ชื่อ กำลังเขียนโปรแกรมอยู่\n",
    "\n",
    "- ในคลาส ComSciStudent จะมี method ชื่อว่า getAptitude() ซึ่งจะนำเสนอข้อมูลว่า นักศึกษา รหัสนักศึกษา ชื่อ มีความถนัดเรื่อง ..."
   ]
  },
  {
   "cell_type": "code",
   "execution_count": 111,
   "metadata": {
    "tags": []
   },
   "outputs": [],
   "source": [
    "# เขียนโปรแกรมในช่องนี้\n",
    "class ComSciStudent:\n",
    "    def __init__(self, student_id, name, age, aptitude=\"Programming\", major=\"Computer Science\"):\n",
    "        self._student_id = student_id\n",
    "        self._name = name\n",
    "        self._age = age\n",
    "        self._major = major\n",
    "        self._aptitude = aptitude\n",
    "\n",
    "    # โค้ดเพิ่มเติมเหมือนเดิม\n",
    "\n",
    "\n",
    "    @property\n",
    "    def student_id(self):\n",
    "        return self._student_id\n",
    "\n",
    "    @property\n",
    "    def name(self):\n",
    "        return self._name\n",
    "     \n",
    "    @property\n",
    "    def age(self):\n",
    "        return self._age\n",
    "\n",
    "    @property\n",
    "    def major(self):\n",
    "        return self._major\n",
    "\n",
    "    @property\n",
    "    def aptitude(self):\n",
    "        return self._aptitude\n",
    "\n",
    "    @aptitude.setter\n",
    "    def aptitude(self, new_aptitude):\n",
    "        self._aptitude = new_aptitude\n",
    "\n",
    "    def Coding(self):\n",
    "        print(f\"{self.name} (ID: {self.student_id}) is coding.\")\n",
    "\n",
    "    def getAptitude(self):\n",
    "        if self.aptitude:\n",
    "            return f\"{self.name} (ID: {self.student_id}) has aptitude in {self.aptitude}.\"\n",
    "        else:\n",
    "            return f\"{self.name} (ID: {self.student_id}) has no specified aptitude.\"\n",
    "\n",
    "\n"
   ]
  },
  {
   "cell_type": "code",
   "execution_count": 112,
   "metadata": {
    "tags": []
   },
   "outputs": [],
   "source": [
    "# จงสร้างตัวแปร instance จากคลาส ComSciStudent\n",
    "comsci_student = ComSciStudent(\"6612732125\", \"woraphon\", 21, \"Programming\")\n"
   ]
  },
  {
   "cell_type": "code",
   "execution_count": 113,
   "metadata": {
    "tags": []
   },
   "outputs": [
    {
     "name": "stdout",
     "output_type": "stream",
     "text": [
      "Student - Name: woraphon, Age: 21, Student ID: 6612732125, Major: Computer Science\n"
     ]
    }
   ],
   "source": [
    "# จงแสดงข้่อมูลนักเรียนของตัวแปร instance \n",
    "print(\"Student - Name: {}, Age: {}, Student ID: {}, Major: {}\".format(student.name, student.age, student.student_id, student.major))\n"
   ]
  },
  {
   "cell_type": "code",
   "execution_count": 114,
   "metadata": {
    "tags": []
   },
   "outputs": [
    {
     "name": "stdout",
     "output_type": "stream",
     "text": [
      "woraphon (ID: 6612732125) is coding.\n"
     ]
    }
   ],
   "source": [
    "# จงแสดงการ coding\n",
    "comsci_student.Coding()"
   ]
  },
  {
   "cell_type": "code",
   "execution_count": 115,
   "metadata": {
    "tags": []
   },
   "outputs": [
    {
     "name": "stdout",
     "output_type": "stream",
     "text": [
      "woraphon (ID: 6612732125) has aptitude in Programming.\n"
     ]
    }
   ],
   "source": [
    "# จงแสดงความถนัด\n",
    "print(comsci_student.getAptitude())\n"
   ]
  },
  {
   "cell_type": "code",
   "execution_count": 116,
   "metadata": {
    "tags": []
   },
   "outputs": [
    {
     "name": "stdout",
     "output_type": "stream",
     "text": [
      "woraphon (ID: 6612732125) has aptitude in Python Programming.\n"
     ]
    }
   ],
   "source": [
    "# จงแก้ไขความถนัด ให้เป็น Python Programing\n",
    "comsci_student.aptitude = \"Python Programming\"\n",
    "print(comsci_student.getAptitude())"
   ]
  },
  {
   "cell_type": "code",
   "execution_count": null,
   "metadata": {},
   "outputs": [],
   "source": []
  }
 ],
 "metadata": {
  "kernelspec": {
   "display_name": "Python 3 (ipykernel)",
   "language": "python",
   "name": "python3"
  },
  "language_info": {
   "codemirror_mode": {
    "name": "ipython",
    "version": 3
   },
   "file_extension": ".py",
   "mimetype": "text/x-python",
   "name": "python",
   "nbconvert_exporter": "python",
   "pygments_lexer": "ipython3",
   "version": "3.11.5"
  }
 },
 "nbformat": 4,
 "nbformat_minor": 4
}
